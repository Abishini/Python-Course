{
 "cells": [
  {
   "cell_type": "code",
   "execution_count": null,
   "id": "4d249b72",
   "metadata": {},
   "outputs": [],
   "source": [
    "print(\"Hello World\")"
   ]
  },
  {
   "cell_type": "markdown",
   "id": "42a328a2",
   "metadata": {},
   "source": [
    "### Drawing Shape"
   ]
  },
  {
   "cell_type": "code",
   "execution_count": null,
   "id": "ad357f16",
   "metadata": {},
   "outputs": [],
   "source": [
    "print(\"   /|\")\n",
    "print(\"  / |\")\n",
    "print(\" /  |\")\n",
    "print(\"/___|\")\n"
   ]
  },
  {
   "cell_type": "markdown",
   "id": "1fc931b3",
   "metadata": {},
   "source": [
    "### Variables and Data Types\n"
   ]
  },
  {
   "cell_type": "code",
   "execution_count": null,
   "id": "714bcecf",
   "metadata": {},
   "outputs": [],
   "source": [
    "print(\"There once was a man named George, \")\n",
    "print(\"he was 70 years old. \")\n",
    "print(\"He really liked the name George, \")\n",
    "print(\"but didn't lie being 70.\")"
   ]
  },
  {
   "cell_type": "code",
   "execution_count": null,
   "id": "4ca7a12a",
   "metadata": {},
   "outputs": [],
   "source": [
    "character_name = \"John\"\n",
    "character_age = \"35\"\n",
    "\n",
    "print(\"There once was a man named \" + character_name + \", \")\n",
    "print(\"he was \" + character_age + \" years old. \")\n",
    "print(\"He really liked the name \" + character_name+\", \")\n",
    "print(\"but didn't like being \" + character_age + \".\")\n",
    "\n"
   ]
  },
  {
   "cell_type": "code",
   "execution_count": null,
   "id": "307ccbb6",
   "metadata": {},
   "outputs": [],
   "source": [
    "character_name = \"John\"\n",
    "character_age = \"35\"\n",
    "\n",
    "print(\"There once was a man named \" + character_name + \", \")\n",
    "print(\"he was \" + character_age + \" years old. \")\n",
    "character_name = \"Mike\"\n",
    "print(\"He really liked the name \" + character_name+\", \")\n",
    "print(\"but didn't like being \" + character_age + \".\")"
   ]
  },
  {
   "cell_type": "markdown",
   "id": "42997d30",
   "metadata": {},
   "source": [
    "### Strings"
   ]
  },
  {
   "cell_type": "code",
   "execution_count": null,
   "id": "496df0cd",
   "metadata": {},
   "outputs": [],
   "source": [
    "print(\"Giraffe\\nAcademy\")\n",
    "print(\"Giraffe\\\"Academy\")"
   ]
  },
  {
   "cell_type": "code",
   "execution_count": null,
   "id": "90ec3a0b",
   "metadata": {},
   "outputs": [],
   "source": [
    "phrase = \"Giraffe Academy\"    # Concatenation\n",
    "print(phrase + \"is cool.\")"
   ]
  },
  {
   "cell_type": "code",
   "execution_count": null,
   "id": "87aaf900",
   "metadata": {},
   "outputs": [],
   "source": [
    "print(phrase.upper())\n",
    "print(phrase.lower())\n",
    "\n"
   ]
  },
  {
   "cell_type": "code",
   "execution_count": null,
   "id": "2156a464",
   "metadata": {},
   "outputs": [],
   "source": [
    "# To check the string is upper case or not\n",
    "print(phrase.isupper())\n",
    "print(phrase.upper().isupper())"
   ]
  },
  {
   "cell_type": "code",
   "execution_count": null,
   "id": "67abab62",
   "metadata": {},
   "outputs": [],
   "source": [
    "print(len(phrase))"
   ]
  },
  {
   "cell_type": "code",
   "execution_count": null,
   "id": "c5bc22f6",
   "metadata": {},
   "outputs": [],
   "source": [
    "print(phrase[0])\n",
    "print(phrase[-1])\n",
    "print(phrase.index(\"A\"))\n",
    "print(phrase.index(\"ira\"))\n",
    "print(phrase.index(\"Z\"))\n",
    "print(phrase.replace(\"Giraffe\",\"Elephant\"))\n"
   ]
  },
  {
   "cell_type": "code",
   "execution_count": null,
   "id": "72f16e9a",
   "metadata": {},
   "outputs": [],
   "source": [
    "print(phrase.replace(\"Giraffe\",\"Elephant\"))\n"
   ]
  },
  {
   "cell_type": "code",
   "execution_count": null,
   "id": "f8da9f36",
   "metadata": {},
   "outputs": [],
   "source": [
    "print(3 + 5)\n",
    "print(4 * 5)\n",
    "print(3 * 4 + 5)"
   ]
  },
  {
   "cell_type": "code",
   "execution_count": null,
   "id": "40cc1128",
   "metadata": {},
   "outputs": [],
   "source": [
    "my_num = 5\n",
    "print(my_num)"
   ]
  },
  {
   "cell_type": "code",
   "execution_count": null,
   "id": "b413066a",
   "metadata": {},
   "outputs": [],
   "source": [
    "print(pow(3,2))"
   ]
  },
  {
   "cell_type": "code",
   "execution_count": null,
   "id": "d2137092",
   "metadata": {},
   "outputs": [],
   "source": [
    "print(max(2,8))"
   ]
  },
  {
   "cell_type": "code",
   "execution_count": null,
   "id": "f9cbf88f",
   "metadata": {},
   "outputs": [],
   "source": [
    "from math import *"
   ]
  },
  {
   "cell_type": "code",
   "execution_count": null,
   "id": "403ee273",
   "metadata": {},
   "outputs": [],
   "source": [
    "print(floor(3.8))"
   ]
  },
  {
   "cell_type": "code",
   "execution_count": null,
   "id": "f2ddb267",
   "metadata": {},
   "outputs": [],
   "source": [
    "print(ceil(3.8))"
   ]
  },
  {
   "cell_type": "code",
   "execution_count": null,
   "id": "5d1d645e",
   "metadata": {},
   "outputs": [],
   "source": [
    "name = input(\"Enter your name: \")\n",
    "print(\"Hello \"+ name + \"!\")"
   ]
  },
  {
   "cell_type": "code",
   "execution_count": null,
   "id": "7e9b4144",
   "metadata": {},
   "outputs": [],
   "source": [
    "name = input(\"Enter your name: \")\n",
    "age = input(\"Enter your age: \")\n",
    "print(\"Hello \"+ name + \"! You are \"+ age+\".\")"
   ]
  },
  {
   "cell_type": "code",
   "execution_count": null,
   "id": "314fea05",
   "metadata": {},
   "outputs": [],
   "source": [
    "num1 = float(input(\"Enter a number: \"))\n",
    "num2 = float(input(\"Enter another number: \"))\n",
    "result = num1 + num2\n",
    "print(result)"
   ]
  },
  {
   "cell_type": "code",
   "execution_count": null,
   "id": "73c4fccb",
   "metadata": {},
   "outputs": [],
   "source": [
    "color = input(\"Enter a color: \")\n",
    "plural_noun = input(\"Enter a plural Noun: \")\n",
    "celebraity = input(\"Enter a celebraity: \")\n",
    "\n",
    "print(f\"Roses are {color}\")\n",
    "print(f\"{plural_noun} are blue\")\n",
    "print(f\"I love {celebraity}\")\n",
    "\n"
   ]
  },
  {
   "cell_type": "markdown",
   "id": "86dd2b96",
   "metadata": {},
   "source": [
    "### Lists\n"
   ]
  },
  {
   "cell_type": "code",
   "execution_count": null,
   "id": "bec6dc96",
   "metadata": {},
   "outputs": [],
   "source": [
    "friends = [\"kevin\", \"Karen\", \"Jim\"]\n",
    "print(friends)"
   ]
  },
  {
   "cell_type": "code",
   "execution_count": null,
   "id": "8a4ba3e5",
   "metadata": {},
   "outputs": [],
   "source": [
    "print(friends[2])"
   ]
  },
  {
   "cell_type": "code",
   "execution_count": null,
   "id": "8d57e2a1",
   "metadata": {},
   "outputs": [],
   "source": [
    "print(friends.index(\"Jim\"))\n",
    "print(friends[1:])"
   ]
  },
  {
   "cell_type": "markdown",
   "id": "efb40733",
   "metadata": {},
   "source": [
    "### List Functions"
   ]
  },
  {
   "cell_type": "code",
   "execution_count": null,
   "id": "50931423",
   "metadata": {},
   "outputs": [],
   "source": [
    "lucky_numbers = [4, 8, 15, 16, 23, 42]\n",
    "friends = [\"kevin\", \"karen\", \"Jim\", \"Oscar\", \"Toby\"]\n",
    "print(friends)"
   ]
  },
  {
   "cell_type": "code",
   "execution_count": null,
   "id": "e5473665",
   "metadata": {},
   "outputs": [],
   "source": [
    "friends.extend(lucky_numbers)"
   ]
  },
  {
   "cell_type": "code",
   "execution_count": null,
   "id": "d4c5754e",
   "metadata": {},
   "outputs": [],
   "source": [
    "print(friends)"
   ]
  },
  {
   "cell_type": "code",
   "execution_count": null,
   "id": "fc2018b4",
   "metadata": {},
   "outputs": [],
   "source": [
    "friends.append(\"Jivin\")"
   ]
  },
  {
   "cell_type": "code",
   "execution_count": null,
   "id": "5d85a54c",
   "metadata": {},
   "outputs": [],
   "source": [
    "friends.insert(1,\"Stephy\")\n",
    "print(friends)"
   ]
  },
  {
   "cell_type": "code",
   "execution_count": null,
   "id": "7c61c10a",
   "metadata": {},
   "outputs": [],
   "source": [
    "friends.remove(\"Toby\")\n",
    "print(friends)"
   ]
  },
  {
   "cell_type": "code",
   "execution_count": null,
   "id": "f9a810cd",
   "metadata": {},
   "outputs": [],
   "source": [
    "friends.clear()\n",
    "print(friends)"
   ]
  },
  {
   "cell_type": "code",
   "execution_count": null,
   "id": "9e5792ae",
   "metadata": {},
   "outputs": [],
   "source": [
    "friends.pop()"
   ]
  },
  {
   "cell_type": "code",
   "execution_count": null,
   "id": "fd461249",
   "metadata": {},
   "outputs": [],
   "source": [
    "print(friends)"
   ]
  },
  {
   "cell_type": "code",
   "execution_count": null,
   "id": "6bc99db9",
   "metadata": {},
   "outputs": [],
   "source": [
    "print(friends.index(\"Oscar\"))"
   ]
  },
  {
   "cell_type": "code",
   "execution_count": null,
   "id": "231baf8b",
   "metadata": {},
   "outputs": [],
   "source": [
    "print(friends.count(\"Jim\"))"
   ]
  },
  {
   "cell_type": "code",
   "execution_count": null,
   "id": "74a91680",
   "metadata": {},
   "outputs": [],
   "source": [
    "friends.sort()"
   ]
  },
  {
   "cell_type": "code",
   "execution_count": null,
   "id": "9cdca4e7",
   "metadata": {},
   "outputs": [],
   "source": [
    "print(friends)"
   ]
  },
  {
   "cell_type": "code",
   "execution_count": null,
   "id": "17b26b59",
   "metadata": {},
   "outputs": [],
   "source": [
    "lucky_numbers.sort()\n",
    "print(lucky_numbers)"
   ]
  },
  {
   "cell_type": "code",
   "execution_count": null,
   "id": "57a50291",
   "metadata": {},
   "outputs": [],
   "source": [
    "lucky_numbers.reverse()\n",
    "print(lucky_numbers)"
   ]
  },
  {
   "cell_type": "code",
   "execution_count": null,
   "id": "6980ab82",
   "metadata": {},
   "outputs": [],
   "source": [
    "friends2 = friends.copy()"
   ]
  },
  {
   "cell_type": "code",
   "execution_count": null,
   "id": "367965b4",
   "metadata": {},
   "outputs": [],
   "source": [
    "print(friends2)"
   ]
  },
  {
   "cell_type": "markdown",
   "id": "57d67806",
   "metadata": {},
   "source": [
    "### Tuples"
   ]
  },
  {
   "cell_type": "code",
   "execution_count": null,
   "id": "7067620c",
   "metadata": {},
   "outputs": [],
   "source": [
    "coordinates = (4,5)\n",
    "print(coordinates[0])"
   ]
  },
  {
   "cell_type": "code",
   "execution_count": null,
   "id": "3274eba0",
   "metadata": {},
   "outputs": [],
   "source": [
    "coordinates = [(4,6),(7,9)]\n",
    "coordinates[0]=(7,8)\n",
    "print(coordinates[0])"
   ]
  },
  {
   "cell_type": "markdown",
   "id": "5ea5b87b",
   "metadata": {},
   "source": [
    "### Functions"
   ]
  },
  {
   "cell_type": "code",
   "execution_count": null,
   "id": "5a474104",
   "metadata": {},
   "outputs": [],
   "source": [
    "def sayhi():\n",
    "    print(\"Hello user\")\n",
    "sayhi()"
   ]
  },
  {
   "cell_type": "code",
   "execution_count": null,
   "id": "5cdaa8bf",
   "metadata": {},
   "outputs": [],
   "source": [
    "def sayhi():\n",
    "    print(\"Hello user\")\n",
    "print(\"TOp\")\n",
    "sayhi()\n",
    "print(\"Bottom\")"
   ]
  },
  {
   "cell_type": "code",
   "execution_count": null,
   "id": "bbb9a742",
   "metadata": {},
   "outputs": [],
   "source": [
    "def sayhi(name,age):\n",
    "    print(\"Hi \"+ name + \" and your age is \"+ str(age))\n",
    "sayhi(\"Silvester\",28)\n",
    "    "
   ]
  },
  {
   "cell_type": "markdown",
   "id": "1a7fb022",
   "metadata": {},
   "source": [
    "### Return statement"
   ]
  },
  {
   "cell_type": "code",
   "execution_count": null,
   "id": "6a68a8ef",
   "metadata": {},
   "outputs": [],
   "source": [
    "def cube(num):\n",
    "    return num * num * num\n",
    "result = cube(4)\n",
    "print(result)"
   ]
  },
  {
   "cell_type": "markdown",
   "id": "50c0c06c",
   "metadata": {},
   "source": [
    "### If sttatement"
   ]
  },
  {
   "cell_type": "code",
   "execution_count": null,
   "id": "e9d602ac",
   "metadata": {},
   "outputs": [],
   "source": [
    "is_male = False\n",
    "if is_male:\n",
    "    print(\"You are male\")\n",
    "else:\n",
    "    print(\"You are not male\")\n"
   ]
  },
  {
   "cell_type": "code",
   "execution_count": null,
   "id": "4c281f76",
   "metadata": {},
   "outputs": [],
   "source": [
    "is_male = True\n",
    "is_tall = True\n",
    "if is_male or is_tall:\n",
    "    print(\"You are a male or tall or both\")\n",
    "else:\n",
    "    print(\"You are neither male nor tall\")"
   ]
  },
  {
   "cell_type": "code",
   "execution_count": null,
   "id": "aa303d2f",
   "metadata": {},
   "outputs": [],
   "source": [
    "is_male = True\n",
    "is_tall = False\n",
    "if is_male and is_tall:\n",
    "    print(\"You are a tall male\")\n",
    "elif is_male and not(is_tall):\n",
    "    print(\"You are short male\")\n",
    "elif not(is_male) and is_tall:\n",
    "    print(\"You are not a male but tall\")\n",
    "else:\n",
    "    \n",
    "    print(\"You are  not male or not tall \")"
   ]
  },
  {
   "cell_type": "code",
   "execution_count": null,
   "id": "3f8643aa",
   "metadata": {},
   "outputs": [],
   "source": [
    "def max_num(num1, num2, num3):\n",
    "    if num1>= num2 and num1>=num3:\n",
    "        return num1\n",
    "    elif num2>= num1 and num2>=num3:\n",
    "        return num2\n",
    "    else:\n",
    "        return num3\n",
    "max_num(3,11,6)\n",
    "    "
   ]
  },
  {
   "cell_type": "markdown",
   "id": "a0011e8d",
   "metadata": {},
   "source": [
    "### Better Caculator"
   ]
  },
  {
   "cell_type": "code",
   "execution_count": null,
   "id": "e64452df",
   "metadata": {},
   "outputs": [],
   "source": [
    "num1 = float(input(\"Enter the first number: \"))\n",
    "operator = input(\"Enter the operator: \")\n",
    "num2 = float(input(\"Enter the second number: \"))\n",
    "if operator == \"+\":\n",
    "    print(num1 + num2)\n",
    "elif operator == \"-\":\n",
    "    print(num1 - num2)\n",
    "elif operator == \"*\":\n",
    "    print(num1 * num2)\n",
    "elif operator == \"/\":\n",
    "    print(num1 / num2)\n",
    "else:\n",
    "    print(\"Cannot do the opeation because its an invalid operator\")\n",
    "\n"
   ]
  },
  {
   "cell_type": "markdown",
   "id": "6619f800",
   "metadata": {},
   "source": [
    "#### Dictionaries\n"
   ]
  },
  {
   "cell_type": "code",
   "execution_count": null,
   "id": "933f6cb5",
   "metadata": {},
   "outputs": [],
   "source": [
    "\n",
    "monthConversion = {\n",
    "    \"Jan\": \"January\",\n",
    "    \"Feb\": \"February\",\n",
    "    \"Mar\": \"March\",\n",
    "    \"Apr\": \"April\",\n",
    "    \"May\": \"May\",\n",
    "    \"Jun\": \"June\",\n",
    "    \"Jul\": \"July\",\n",
    "    \"Aug\": \"August\",\n",
    "    \"Sep\": \"September\",\n",
    "    \"Oct\": \"October\",\n",
    "    \"Nov\": \"November\",\n",
    "    \"Dec\": \"December\"\n",
    "}\n",
    "print(monthConversion[\"Jan\"])\n",
    "print(monthConversion.get(\"Luv\"))"
   ]
  },
  {
   "cell_type": "markdown",
   "id": "b5aa81bb",
   "metadata": {},
   "source": [
    "### While loop"
   ]
  },
  {
   "cell_type": "code",
   "execution_count": null,
   "id": "0d95dc42",
   "metadata": {},
   "outputs": [],
   "source": [
    "i = 1\n",
    "while (i <= 10):\n",
    "    print(i)\n",
    "    i = i+1\n",
    "print(\"Done with the loop\")\n"
   ]
  },
  {
   "cell_type": "code",
   "execution_count": null,
   "id": "999cf874",
   "metadata": {},
   "outputs": [],
   "source": [
    "secret_word = \"girrafe\"\n",
    "guess = \" \"\n",
    "guess_count = 0\n",
    "guess_limit = 3\n",
    "out_of_guesses = False\n",
    "while guess != secret_word and not(out_of_guesses):\n",
    "    if guess_count < guess_limit:\n",
    "        guess = input(\"Enter the guess: \")\n",
    "        guess_count += 1\n",
    "\n",
    "    else:\n",
    "        out_of_guesses = True\n",
    "if out_of_guesses:\n",
    "    print(\"Out of guesses, You lose\")\n",
    "else:\n",
    "print(\"You win\")"
   ]
  },
  {
   "cell_type": "code",
   "execution_count": null,
   "id": "58d9ae33",
   "metadata": {},
   "outputs": [],
   "source": [
    "secret_word = \"girrafe\"\n",
    "guess = \" \"\n",
    "guess_count = 0\n",
    "guess_limit = 3\n",
    "out_of_guesses = False\n",
    "while guess != secret_word and not(out_of_guesses):\n",
    "    if guess_count < guess_limit:\n",
    "        guess = input(\"Enter the guess: \")\n",
    "        guess_count += 1\n",
    "\n",
    "    else:\n",
    "        out_of_guesses = True\n",
    "if out_of_guesses:\n",
    "    print(\"Out of guesses, You lose\")\n",
    "else:\n",
    "    print(\"You win\")"
   ]
  },
  {
   "cell_type": "code",
   "execution_count": null,
   "id": "5462a7e9",
   "metadata": {},
   "outputs": [],
   "source": [
    "for letter in \"Giraffe Academy\":\n",
    "    print(letter)"
   ]
  },
  {
   "cell_type": "code",
   "execution_count": null,
   "id": "cabfba12",
   "metadata": {},
   "outputs": [],
   "source": [
    "friends = ['jim','kevin','sam']\n",
    "for name in friends:\n",
    "    print(name)"
   ]
  },
  {
   "cell_type": "code",
   "execution_count": null,
   "id": "f706e5fe",
   "metadata": {},
   "outputs": [],
   "source": [
    "for index in range(10):\n",
    "    print(index)"
   ]
  },
  {
   "cell_type": "code",
   "execution_count": null,
   "id": "a9d5a15e",
   "metadata": {},
   "outputs": [],
   "source": [
    "for index in range(3,10):\n",
    "    print(index)"
   ]
  },
  {
   "cell_type": "code",
   "execution_count": null,
   "id": "cc9f78ca",
   "metadata": {},
   "outputs": [],
   "source": [
    "for index in range(5):\n",
    "    if index == 0:\n",
    "        print(\"first iteration\")\n",
    "    else:\n",
    "        print(\"Not first\")"
   ]
  },
  {
   "cell_type": "markdown",
   "id": "e6df13c9",
   "metadata": {},
   "source": [
    "#### Exponent function\n"
   ]
  },
  {
   "cell_type": "code",
   "execution_count": null,
   "id": "5e265949",
   "metadata": {},
   "outputs": [],
   "source": [
    "def raise_to_power(base_num ,pow_num):\n",
    "    result = 1\n",
    "    for index in range(pow_num):\n",
    "        result = result * base_num\n",
    "    return result\n",
    "print(raise_to_power(3,2))"
   ]
  },
  {
   "cell_type": "markdown",
   "id": "48786dcc",
   "metadata": {},
   "source": [
    "### 2D Dimensional Array and Nested loops"
   ]
  },
  {
   "cell_type": "code",
   "execution_count": 3,
   "id": "981bf1d4",
   "metadata": {},
   "outputs": [
    {
     "name": "stdout",
     "output_type": "stream",
     "text": [
      "9\n"
     ]
    }
   ],
   "source": [
    "number_grid = [\n",
    "    [1, 2, 3],\n",
    "    [4, 5, 6],\n",
    "    [7, 8, 9],\n",
    "    [0]\n",
    "]\n",
    "print(number_grid[2][2])"
   ]
  },
  {
   "cell_type": "code",
   "execution_count": 4,
   "id": "aa22bef6",
   "metadata": {},
   "outputs": [
    {
     "name": "stdout",
     "output_type": "stream",
     "text": [
      "[1, 2, 3]\n",
      "[4, 5, 6]\n",
      "[7, 8, 9]\n",
      "[0]\n"
     ]
    }
   ],
   "source": [
    "for row in number_grid:\n",
    "    print(row)"
   ]
  },
  {
   "cell_type": "code",
   "execution_count": 5,
   "id": "03e01543",
   "metadata": {},
   "outputs": [
    {
     "name": "stdout",
     "output_type": "stream",
     "text": [
      "1\n",
      "2\n",
      "3\n",
      "4\n",
      "5\n",
      "6\n",
      "7\n",
      "8\n",
      "9\n",
      "0\n"
     ]
    }
   ],
   "source": [
    "for row in number_grid:\n",
    "    for col in row:\n",
    "        print(col)"
   ]
  },
  {
   "cell_type": "code",
   "execution_count": 19,
   "id": "997abb1e",
   "metadata": {},
   "outputs": [
    {
     "name": "stdout",
     "output_type": "stream",
     "text": [
      "Enter a phrase: ON\n",
      "GN\n"
     ]
    }
   ],
   "source": [
    "def translate(phrase):\n",
    "    translation = \"\"\n",
    "    for letter in phrase:\n",
    "        if letter.lower() in \"aeiou\":\n",
    "            if letter.isupper():\n",
    "                translation = translation + \"G\"\n",
    "            else:\n",
    "                translation = translation + \"g\"\n",
    "        else:\n",
    "            translation = translation + letter\n",
    "    return translation\n",
    "print(translate(input(\"Enter a phrase: \")))\n",
    "\n",
    "            \n",
    "        "
   ]
  },
  {
   "cell_type": "markdown",
   "id": "c120d564",
   "metadata": {},
   "source": [
    "### Try Except"
   ]
  },
  {
   "cell_type": "code",
   "execution_count": null,
   "id": "7f321d58",
   "metadata": {},
   "outputs": [],
   "source": [
    "try: \n",
    "    value = 10/0\n",
    "    number = int(input(\"Enter a number\"))\n",
    "    print(number)\n",
    "\n",
    "except ZeroDivisionError:\n",
    "    print(\"Divided by Zero\")\n",
    "except ValueError:\n",
    "    print(\"Invaild input\")"
   ]
  },
  {
   "cell_type": "code",
   "execution_count": null,
   "id": "c8611ab8",
   "metadata": {},
   "outputs": [],
   "source": [
    "employee_fle = open(\"Employees.txt\",\"r\")\n",
    "print(employee_fle.read())"
   ]
  },
  {
   "cell_type": "code",
   "execution_count": null,
   "id": "b190580c",
   "metadata": {},
   "outputs": [],
   "source": []
  },
  {
   "cell_type": "code",
   "execution_count": null,
   "id": "246c9c47",
   "metadata": {},
   "outputs": [],
   "source": []
  }
 ],
 "metadata": {
  "kernelspec": {
   "display_name": "Python 3",
   "language": "python",
   "name": "python3"
  },
  "language_info": {
   "codemirror_mode": {
    "name": "ipython",
    "version": 3
   },
   "file_extension": ".py",
   "mimetype": "text/x-python",
   "name": "python",
   "nbconvert_exporter": "python",
   "pygments_lexer": "ipython3",
   "version": "3.8.8"
  }
 },
 "nbformat": 4,
 "nbformat_minor": 5
}
